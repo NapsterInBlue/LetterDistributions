{
 "cells": [
  {
   "cell_type": "code",
   "execution_count": 1,
   "metadata": {},
   "outputs": [
    {
     "name": "stdout",
     "output_type": "stream",
     "text": [
      "Populating the interactive namespace from numpy and matplotlib\n"
     ]
    }
   ],
   "source": [
    "%pylab inline\n",
    "\n",
    "from letterDist.helpers import (make_letter_dict, load_all_words,\n",
    "                                get_letter_dists, plot_letter_dists, \n",
    "                                plot_just_k,\n",
    "                                letter_dist_heatmap, points_legend, \n",
    "                                plot_letter_dists_scrabble,\n",
    "                                plot_letter_volume_scrabble)"
   ]
  },
  {
   "cell_type": "markdown",
   "metadata": {},
   "source": [
    "It's been a busy couple of months.\n",
    "\n",
    "I'm working in a software engineer-ier capacity these days, building out a Sphinx-based documentation platform, standing up a Package Index for library code we've been brewing, and doing all kinds of internal writing about standards and best practices. Job title still says \"Senior Data Analyst,\" but I've been signing emails as [developer advocate](https://medium.com/@ashleymcnamara/what-is-developer-advocacy-3a92442b627c)-- an excellent characterization of what I've been up to these past couple years. It's been slow-going and frankly a bit taxing, but I'm optimistic that it'll translate into my doing some quality data science once things are platformed a bit better.\n",
    "\n",
    "Of course, since I'm learning a whole lot during the day, my *constructive* extracurricular work has fallen to the wayside. And in turn my decompress hobbies have picked up in a big way. Since the middle of June, I've burned through:\n",
    "\n",
    "- Mario Rabbids for the Switch: Weird and fantastic\n",
    "- All 100-something Marvel Civil War comics and many others: Turns out comics are pretty cool. Who knew?\n",
    "- Bloodborne on the PS4: It took three, multiple-month quits before I finally got gud.\n",
    "- A good deal of skin: I've still got signs of the sunburn I got beginning of the month, lol\n",
    "\n",
    "And last, but not least, my good friend Will recommended that I check out Daniel Kahneman's *Thinking Fast and Slow*. We've compared notes over the past few years on all things mental health, imposter syndrome, and Internet garbage. He was instrumental in helping me get a standup routine together that seemed to go over well-enough, and we're often thinking on the same wavelength. So when he made a book recommendation, I was certain that it would be a quality one.\n",
    "\n",
    "Nevertheless, I didn't even make it through the introduction before I found myself itching to do some tinkering over a couple sentences that I read, lol"
   ]
  },
  {
   "cell_type": "markdown",
   "metadata": {},
   "source": [
    "## The Question"
   ]
  },
  {
   "cell_type": "markdown",
   "metadata": {},
   "source": [
    "The book itself explores thinking and decision making-- establishing some simple constructions that help you conceptualize the way your brain works. It also provides insight into how that may occasionally work against us in the form of biases, and *for* us via *heuristics* (or roughly, rules of thumb).\n",
    "\n",
    "And so while explaining the *availability heuristic*, or our tendency to form opinions based on the examples we can easily summon, he says the following:"
   ]
  },
  {
   "cell_type": "markdown",
   "metadata": {},
   "source": [
    "> Consider the letter *K*.\n",
    ">\n",
    "> Is *K* more likely more likely to appear as the first letter in a word OR as the third letter?"
   ]
  },
  {
   "cell_type": "markdown",
   "metadata": {},
   "source": [
    "And I stopped and went through the mental exercise.\n",
    "\n",
    "    cake, lick, kangaroo, clock, acknowledge, knowledge, know, knack, kick, ...\n",
    "    \n",
    "It *seemed* about even, but I was very aware that for every first-letter-k I was coming up with, I was deliberately suppressing another one while I thought even harder for a third-letter-k, in some clumsy balancing strategy. Then all of a sudden, I was in my head about it, and the reflexive, \"ease of access\" point he was trying to impart was wasted on me.\n",
    "\n",
    "Be that as it may, what was the answer?"
   ]
  },
  {
   "cell_type": "markdown",
   "metadata": {},
   "source": [
    "### My Approach"
   ]
  },
  {
   "cell_type": "markdown",
   "metadata": {},
   "source": [
    "Basically, the mental-model I was starting to think up looked like the following:\n",
    "\n",
    "I was going to have a big old list of every letter, where each letter had its own corresponding (empty at first) list."
   ]
  },
  {
   "cell_type": "code",
   "execution_count": 2,
   "metadata": {},
   "outputs": [
    {
     "name": "stdout",
     "output_type": "stream",
     "text": [
      "{'a': {}, 'b': {}, 'c': {}, 'd': {}, 'e': {}, 'f': {}, 'g': {}, 'h': {}, 'i': {}, 'j': {}, 'k': {}, 'l': {}, 'm': {}, 'n': {}, 'o': {}, 'p': {}, 'q': {}, 'r': {}, 's': {}, 't': {}, 'u': {}, 'v': {}, 'w': {}, 'x': {}, 'y': {}, 'z': {}}\n"
     ]
    }
   ],
   "source": [
    "letters = make_letter_dict()\n",
    "print(letters)"
   ]
  },
  {
   "cell_type": "markdown",
   "metadata": {},
   "source": [
    "And I'd be able to take a word, and see where each letter fell (first, second, etc)"
   ]
  },
  {
   "cell_type": "code",
   "execution_count": 3,
   "metadata": {},
   "outputs": [
    {
     "name": "stdout",
     "output_type": "stream",
     "text": [
      "0 k\n",
      "1 i\n",
      "2 c\n",
      "3 k\n",
      "4 b\n",
      "5 a\n",
      "6 c\n",
      "7 k\n"
     ]
    }
   ],
   "source": [
    "for idx, letter in enumerate('kickback'):\n",
    "    print(idx, letter)"
   ]
  },
  {
   "cell_type": "markdown",
   "metadata": {},
   "source": [
    "Then I'd be able to populate those sub-lists, per letter, with a count of where letters have occurred.\n",
    "\n",
    "For example, here, `k` occurs once in the `0th`, `3rd`, and `7th` places."
   ]
  },
  {
   "cell_type": "code",
   "execution_count": 4,
   "metadata": {},
   "outputs": [
    {
     "name": "stdout",
     "output_type": "stream",
     "text": [
      "{0: 1, 3: 1, 7: 1}\n"
     ]
    }
   ],
   "source": [
    "print(get_letter_dists(['kickback'])['k'])"
   ]
  },
  {
   "cell_type": "markdown",
   "metadata": {},
   "source": [
    "And so as I layered in more words, I'd be able to get a running total of counts, per letter, of where they appeared in my list of words."
   ]
  },
  {
   "cell_type": "code",
   "execution_count": 5,
   "metadata": {},
   "outputs": [
    {
     "name": "stdout",
     "output_type": "stream",
     "text": [
      "{0: 3, 3: 1, 7: 1, 4: 2}\n"
     ]
    }
   ],
   "source": [
    "print(get_letter_dists(['kickback', 'knock', 'knuckle'])['k'])"
   ]
  },
  {
   "cell_type": "markdown",
   "metadata": {},
   "source": [
    "But to extend this idea to the point where I can make real inference, I was going to need a ridiculous amount of data."
   ]
  },
  {
   "cell_type": "markdown",
   "metadata": {},
   "source": [
    "### A Ridiculous Amount of Data"
   ]
  },
  {
   "cell_type": "markdown",
   "metadata": {},
   "source": [
    "So I found myself borrowing from the `popular.txt` by [GitHub user Dolph](https://github.com/dolph/dictionary#populartxt), which is a combination of the very-famous [Enable 1](http://www.bananagrammer.com/2013/12/the-amazing-enable-word-list-project.html) dataset, cross-referenced against Wiktionary's word frequency lists generated from a comprehensive look at scripts from English-speaking TV shows and movies."
   ]
  },
  {
   "cell_type": "code",
   "execution_count": 6,
   "metadata": {
    "collapsed": true
   },
   "outputs": [],
   "source": [
    "words = load_all_words()"
   ]
  },
  {
   "cell_type": "markdown",
   "metadata": {},
   "source": [
    "It's over 25,000 words long."
   ]
  },
  {
   "cell_type": "code",
   "execution_count": 7,
   "metadata": {},
   "outputs": [
    {
     "data": {
      "text/plain": [
       "25322"
      ]
     },
     "execution_count": 7,
     "metadata": {},
     "output_type": "execute_result"
    }
   ],
   "source": [
    "len(words)"
   ]
  },
  {
   "cell_type": "markdown",
   "metadata": {},
   "source": [
    "It includes words spoken by the everyman, you and me."
   ]
  },
  {
   "cell_type": "code",
   "execution_count": 8,
   "metadata": {},
   "outputs": [
    {
     "name": "stdout",
     "output_type": "stream",
     "text": [
      "True\n",
      "True\n",
      "True\n",
      "True\n"
     ]
    }
   ],
   "source": [
    "print('dog' in words)\n",
    "print('beer' in words)\n",
    "print('data' in words)\n",
    "print('science' in words)"
   ]
  },
  {
   "cell_type": "markdown",
   "metadata": {},
   "source": [
    "But doesn't include $2 words of high-society."
   ]
  },
  {
   "cell_type": "code",
   "execution_count": 9,
   "metadata": {},
   "outputs": [
    {
     "name": "stdout",
     "output_type": "stream",
     "text": [
      "False\n",
      "False\n",
      "False\n",
      "False\n"
     ]
    }
   ],
   "source": [
    "print('tophat' in words)\n",
    "print('wainscoting' in words)\n",
    "print('bourgeoisie' in words)\n",
    "print('universalhealthcare' in words)"
   ]
  },
  {
   "cell_type": "markdown",
   "metadata": {},
   "source": [
    "As well as just about all of the good swear words (left as an exercise to the reader)."
   ]
  },
  {
   "cell_type": "markdown",
   "metadata": {},
   "source": [
    "## Running It"
   ]
  },
  {
   "cell_type": "markdown",
   "metadata": {},
   "source": [
    "I ran the same \"letters by count in words\" across this whole dataset, this time, opting to store it in a more-easily-readible tabular format."
   ]
  },
  {
   "cell_type": "code",
   "execution_count": 10,
   "metadata": {},
   "outputs": [
    {
     "data": {
      "text/html": [
       "<div>\n",
       "<style>\n",
       "    .dataframe thead tr:only-child th {\n",
       "        text-align: right;\n",
       "    }\n",
       "\n",
       "    .dataframe thead th {\n",
       "        text-align: left;\n",
       "    }\n",
       "\n",
       "    .dataframe tbody tr th {\n",
       "        vertical-align: top;\n",
       "    }\n",
       "</style>\n",
       "<table border=\"1\" class=\"dataframe\">\n",
       "  <thead>\n",
       "    <tr style=\"text-align: right;\">\n",
       "      <th></th>\n",
       "      <th>a</th>\n",
       "      <th>b</th>\n",
       "      <th>c</th>\n",
       "      <th>d</th>\n",
       "      <th>e</th>\n",
       "      <th>f</th>\n",
       "      <th>g</th>\n",
       "      <th>h</th>\n",
       "      <th>i</th>\n",
       "      <th>j</th>\n",
       "      <th>...</th>\n",
       "      <th>q</th>\n",
       "      <th>r</th>\n",
       "      <th>s</th>\n",
       "      <th>t</th>\n",
       "      <th>u</th>\n",
       "      <th>v</th>\n",
       "      <th>w</th>\n",
       "      <th>x</th>\n",
       "      <th>y</th>\n",
       "      <th>z</th>\n",
       "    </tr>\n",
       "  </thead>\n",
       "  <tbody>\n",
       "    <tr>\n",
       "      <th>0</th>\n",
       "      <td>1405.0</td>\n",
       "      <td>1566.0</td>\n",
       "      <td>2533.0</td>\n",
       "      <td>1595.0</td>\n",
       "      <td>988.0</td>\n",
       "      <td>1198.0</td>\n",
       "      <td>825.0</td>\n",
       "      <td>1036.0</td>\n",
       "      <td>915.0</td>\n",
       "      <td>250.0</td>\n",
       "      <td>...</td>\n",
       "      <td>92.0</td>\n",
       "      <td>1442.0</td>\n",
       "      <td>3135.0</td>\n",
       "      <td>1323.0</td>\n",
       "      <td>499.0</td>\n",
       "      <td>377.0</td>\n",
       "      <td>728.0</td>\n",
       "      <td>1.0</td>\n",
       "      <td>98.0</td>\n",
       "      <td>44.0</td>\n",
       "    </tr>\n",
       "    <tr>\n",
       "      <th>1</th>\n",
       "      <td>3554.0</td>\n",
       "      <td>150.0</td>\n",
       "      <td>438.0</td>\n",
       "      <td>202.0</td>\n",
       "      <td>3739.0</td>\n",
       "      <td>91.0</td>\n",
       "      <td>83.0</td>\n",
       "      <td>1040.0</td>\n",
       "      <td>2577.0</td>\n",
       "      <td>4.0</td>\n",
       "      <td>...</td>\n",
       "      <td>64.0</td>\n",
       "      <td>2227.0</td>\n",
       "      <td>220.0</td>\n",
       "      <td>624.0</td>\n",
       "      <td>1914.0</td>\n",
       "      <td>182.0</td>\n",
       "      <td>208.0</td>\n",
       "      <td>282.0</td>\n",
       "      <td>238.0</td>\n",
       "      <td>1.0</td>\n",
       "    </tr>\n",
       "    <tr>\n",
       "      <th>2</th>\n",
       "      <td>2368.0</td>\n",
       "      <td>518.0</td>\n",
       "      <td>1223.0</td>\n",
       "      <td>793.0</td>\n",
       "      <td>1784.0</td>\n",
       "      <td>460.0</td>\n",
       "      <td>703.0</td>\n",
       "      <td>205.0</td>\n",
       "      <td>1618.0</td>\n",
       "      <td>70.0</td>\n",
       "      <td>...</td>\n",
       "      <td>51.0</td>\n",
       "      <td>2364.0</td>\n",
       "      <td>1737.0</td>\n",
       "      <td>1645.0</td>\n",
       "      <td>1006.0</td>\n",
       "      <td>469.0</td>\n",
       "      <td>257.0</td>\n",
       "      <td>127.0</td>\n",
       "      <td>259.0</td>\n",
       "      <td>93.0</td>\n",
       "    </tr>\n",
       "    <tr>\n",
       "      <th>3</th>\n",
       "      <td>1506.0</td>\n",
       "      <td>442.0</td>\n",
       "      <td>1139.0</td>\n",
       "      <td>1007.0</td>\n",
       "      <td>3003.0</td>\n",
       "      <td>429.0</td>\n",
       "      <td>776.0</td>\n",
       "      <td>558.0</td>\n",
       "      <td>1937.0</td>\n",
       "      <td>39.0</td>\n",
       "      <td>...</td>\n",
       "      <td>46.0</td>\n",
       "      <td>1618.0</td>\n",
       "      <td>1473.0</td>\n",
       "      <td>2138.0</td>\n",
       "      <td>762.0</td>\n",
       "      <td>338.0</td>\n",
       "      <td>258.0</td>\n",
       "      <td>32.0</td>\n",
       "      <td>192.0</td>\n",
       "      <td>112.0</td>\n",
       "    </tr>\n",
       "    <tr>\n",
       "      <th>4</th>\n",
       "      <td>1371.0</td>\n",
       "      <td>317.0</td>\n",
       "      <td>729.0</td>\n",
       "      <td>702.0</td>\n",
       "      <td>3565.0</td>\n",
       "      <td>206.0</td>\n",
       "      <td>477.0</td>\n",
       "      <td>699.0</td>\n",
       "      <td>2296.0</td>\n",
       "      <td>7.0</td>\n",
       "      <td>...</td>\n",
       "      <td>15.0</td>\n",
       "      <td>1708.0</td>\n",
       "      <td>1706.0</td>\n",
       "      <td>1611.0</td>\n",
       "      <td>705.0</td>\n",
       "      <td>158.0</td>\n",
       "      <td>147.0</td>\n",
       "      <td>22.0</td>\n",
       "      <td>498.0</td>\n",
       "      <td>65.0</td>\n",
       "    </tr>\n",
       "    <tr>\n",
       "      <th>5</th>\n",
       "      <td>1285.0</td>\n",
       "      <td>207.0</td>\n",
       "      <td>640.0</td>\n",
       "      <td>956.0</td>\n",
       "      <td>2761.0</td>\n",
       "      <td>212.0</td>\n",
       "      <td>477.0</td>\n",
       "      <td>419.0</td>\n",
       "      <td>1976.0</td>\n",
       "      <td>3.0</td>\n",
       "      <td>...</td>\n",
       "      <td>18.0</td>\n",
       "      <td>1725.0</td>\n",
       "      <td>1660.0</td>\n",
       "      <td>1484.0</td>\n",
       "      <td>433.0</td>\n",
       "      <td>200.0</td>\n",
       "      <td>147.0</td>\n",
       "      <td>23.0</td>\n",
       "      <td>474.0</td>\n",
       "      <td>31.0</td>\n",
       "    </tr>\n",
       "    <tr>\n",
       "      <th>6</th>\n",
       "      <td>1112.0</td>\n",
       "      <td>117.0</td>\n",
       "      <td>428.0</td>\n",
       "      <td>813.0</td>\n",
       "      <td>2081.0</td>\n",
       "      <td>69.0</td>\n",
       "      <td>762.0</td>\n",
       "      <td>207.0</td>\n",
       "      <td>1545.0</td>\n",
       "      <td>3.0</td>\n",
       "      <td>...</td>\n",
       "      <td>3.0</td>\n",
       "      <td>1065.0</td>\n",
       "      <td>1613.0</td>\n",
       "      <td>1440.0</td>\n",
       "      <td>335.0</td>\n",
       "      <td>82.0</td>\n",
       "      <td>45.0</td>\n",
       "      <td>22.0</td>\n",
       "      <td>340.0</td>\n",
       "      <td>53.0</td>\n",
       "    </tr>\n",
       "    <tr>\n",
       "      <th>7</th>\n",
       "      <td>604.0</td>\n",
       "      <td>85.0</td>\n",
       "      <td>331.0</td>\n",
       "      <td>656.0</td>\n",
       "      <td>1514.0</td>\n",
       "      <td>44.0</td>\n",
       "      <td>713.0</td>\n",
       "      <td>137.0</td>\n",
       "      <td>1067.0</td>\n",
       "      <td>2.0</td>\n",
       "      <td>...</td>\n",
       "      <td>1.0</td>\n",
       "      <td>641.0</td>\n",
       "      <td>1188.0</td>\n",
       "      <td>995.0</td>\n",
       "      <td>197.0</td>\n",
       "      <td>79.0</td>\n",
       "      <td>43.0</td>\n",
       "      <td>6.0</td>\n",
       "      <td>261.0</td>\n",
       "      <td>57.0</td>\n",
       "    </tr>\n",
       "    <tr>\n",
       "      <th>8</th>\n",
       "      <td>379.0</td>\n",
       "      <td>54.0</td>\n",
       "      <td>178.0</td>\n",
       "      <td>482.0</td>\n",
       "      <td>1087.0</td>\n",
       "      <td>18.0</td>\n",
       "      <td>461.0</td>\n",
       "      <td>89.0</td>\n",
       "      <td>651.0</td>\n",
       "      <td>0.0</td>\n",
       "      <td>...</td>\n",
       "      <td>3.0</td>\n",
       "      <td>339.0</td>\n",
       "      <td>793.0</td>\n",
       "      <td>638.0</td>\n",
       "      <td>113.0</td>\n",
       "      <td>63.0</td>\n",
       "      <td>12.0</td>\n",
       "      <td>3.0</td>\n",
       "      <td>220.0</td>\n",
       "      <td>32.0</td>\n",
       "    </tr>\n",
       "    <tr>\n",
       "      <th>9</th>\n",
       "      <td>164.0</td>\n",
       "      <td>31.0</td>\n",
       "      <td>112.0</td>\n",
       "      <td>290.0</td>\n",
       "      <td>595.0</td>\n",
       "      <td>6.0</td>\n",
       "      <td>306.0</td>\n",
       "      <td>68.0</td>\n",
       "      <td>344.0</td>\n",
       "      <td>0.0</td>\n",
       "      <td>...</td>\n",
       "      <td>0.0</td>\n",
       "      <td>188.0</td>\n",
       "      <td>493.0</td>\n",
       "      <td>414.0</td>\n",
       "      <td>52.0</td>\n",
       "      <td>34.0</td>\n",
       "      <td>1.0</td>\n",
       "      <td>3.0</td>\n",
       "      <td>190.0</td>\n",
       "      <td>19.0</td>\n",
       "    </tr>\n",
       "    <tr>\n",
       "      <th>10</th>\n",
       "      <td>105.0</td>\n",
       "      <td>14.0</td>\n",
       "      <td>54.0</td>\n",
       "      <td>141.0</td>\n",
       "      <td>343.0</td>\n",
       "      <td>2.0</td>\n",
       "      <td>167.0</td>\n",
       "      <td>16.0</td>\n",
       "      <td>177.0</td>\n",
       "      <td>0.0</td>\n",
       "      <td>...</td>\n",
       "      <td>0.0</td>\n",
       "      <td>104.0</td>\n",
       "      <td>303.0</td>\n",
       "      <td>196.0</td>\n",
       "      <td>17.0</td>\n",
       "      <td>12.0</td>\n",
       "      <td>2.0</td>\n",
       "      <td>0.0</td>\n",
       "      <td>124.0</td>\n",
       "      <td>4.0</td>\n",
       "    </tr>\n",
       "    <tr>\n",
       "      <th>11</th>\n",
       "      <td>46.0</td>\n",
       "      <td>11.0</td>\n",
       "      <td>26.0</td>\n",
       "      <td>76.0</td>\n",
       "      <td>130.0</td>\n",
       "      <td>1.0</td>\n",
       "      <td>90.0</td>\n",
       "      <td>7.0</td>\n",
       "      <td>73.0</td>\n",
       "      <td>0.0</td>\n",
       "      <td>...</td>\n",
       "      <td>0.0</td>\n",
       "      <td>48.0</td>\n",
       "      <td>181.0</td>\n",
       "      <td>70.0</td>\n",
       "      <td>13.0</td>\n",
       "      <td>8.0</td>\n",
       "      <td>1.0</td>\n",
       "      <td>0.0</td>\n",
       "      <td>90.0</td>\n",
       "      <td>2.0</td>\n",
       "    </tr>\n",
       "    <tr>\n",
       "      <th>12</th>\n",
       "      <td>16.0</td>\n",
       "      <td>1.0</td>\n",
       "      <td>12.0</td>\n",
       "      <td>24.0</td>\n",
       "      <td>54.0</td>\n",
       "      <td>0.0</td>\n",
       "      <td>46.0</td>\n",
       "      <td>1.0</td>\n",
       "      <td>21.0</td>\n",
       "      <td>0.0</td>\n",
       "      <td>...</td>\n",
       "      <td>0.0</td>\n",
       "      <td>18.0</td>\n",
       "      <td>84.0</td>\n",
       "      <td>31.0</td>\n",
       "      <td>1.0</td>\n",
       "      <td>4.0</td>\n",
       "      <td>0.0</td>\n",
       "      <td>0.0</td>\n",
       "      <td>43.0</td>\n",
       "      <td>0.0</td>\n",
       "    </tr>\n",
       "    <tr>\n",
       "      <th>13</th>\n",
       "      <td>6.0</td>\n",
       "      <td>1.0</td>\n",
       "      <td>3.0</td>\n",
       "      <td>5.0</td>\n",
       "      <td>23.0</td>\n",
       "      <td>0.0</td>\n",
       "      <td>9.0</td>\n",
       "      <td>0.0</td>\n",
       "      <td>13.0</td>\n",
       "      <td>0.0</td>\n",
       "      <td>...</td>\n",
       "      <td>0.0</td>\n",
       "      <td>2.0</td>\n",
       "      <td>39.0</td>\n",
       "      <td>19.0</td>\n",
       "      <td>0.0</td>\n",
       "      <td>0.0</td>\n",
       "      <td>0.0</td>\n",
       "      <td>0.0</td>\n",
       "      <td>28.0</td>\n",
       "      <td>0.0</td>\n",
       "    </tr>\n",
       "    <tr>\n",
       "      <th>14</th>\n",
       "      <td>4.0</td>\n",
       "      <td>1.0</td>\n",
       "      <td>0.0</td>\n",
       "      <td>3.0</td>\n",
       "      <td>2.0</td>\n",
       "      <td>0.0</td>\n",
       "      <td>5.0</td>\n",
       "      <td>0.0</td>\n",
       "      <td>5.0</td>\n",
       "      <td>0.0</td>\n",
       "      <td>...</td>\n",
       "      <td>0.0</td>\n",
       "      <td>2.0</td>\n",
       "      <td>17.0</td>\n",
       "      <td>6.0</td>\n",
       "      <td>0.0</td>\n",
       "      <td>0.0</td>\n",
       "      <td>0.0</td>\n",
       "      <td>0.0</td>\n",
       "      <td>8.0</td>\n",
       "      <td>1.0</td>\n",
       "    </tr>\n",
       "    <tr>\n",
       "      <th>15</th>\n",
       "      <td>0.0</td>\n",
       "      <td>0.0</td>\n",
       "      <td>2.0</td>\n",
       "      <td>0.0</td>\n",
       "      <td>3.0</td>\n",
       "      <td>0.0</td>\n",
       "      <td>4.0</td>\n",
       "      <td>0.0</td>\n",
       "      <td>0.0</td>\n",
       "      <td>0.0</td>\n",
       "      <td>...</td>\n",
       "      <td>0.0</td>\n",
       "      <td>0.0</td>\n",
       "      <td>3.0</td>\n",
       "      <td>2.0</td>\n",
       "      <td>0.0</td>\n",
       "      <td>1.0</td>\n",
       "      <td>0.0</td>\n",
       "      <td>0.0</td>\n",
       "      <td>2.0</td>\n",
       "      <td>0.0</td>\n",
       "    </tr>\n",
       "    <tr>\n",
       "      <th>16</th>\n",
       "      <td>1.0</td>\n",
       "      <td>0.0</td>\n",
       "      <td>0.0</td>\n",
       "      <td>1.0</td>\n",
       "      <td>2.0</td>\n",
       "      <td>0.0</td>\n",
       "      <td>0.0</td>\n",
       "      <td>0.0</td>\n",
       "      <td>0.0</td>\n",
       "      <td>0.0</td>\n",
       "      <td>...</td>\n",
       "      <td>0.0</td>\n",
       "      <td>0.0</td>\n",
       "      <td>2.0</td>\n",
       "      <td>1.0</td>\n",
       "      <td>0.0</td>\n",
       "      <td>0.0</td>\n",
       "      <td>0.0</td>\n",
       "      <td>0.0</td>\n",
       "      <td>0.0</td>\n",
       "      <td>0.0</td>\n",
       "    </tr>\n",
       "    <tr>\n",
       "      <th>17</th>\n",
       "      <td>0.0</td>\n",
       "      <td>0.0</td>\n",
       "      <td>0.0</td>\n",
       "      <td>0.0</td>\n",
       "      <td>0.0</td>\n",
       "      <td>0.0</td>\n",
       "      <td>0.0</td>\n",
       "      <td>0.0</td>\n",
       "      <td>0.0</td>\n",
       "      <td>0.0</td>\n",
       "      <td>...</td>\n",
       "      <td>0.0</td>\n",
       "      <td>0.0</td>\n",
       "      <td>0.0</td>\n",
       "      <td>0.0</td>\n",
       "      <td>0.0</td>\n",
       "      <td>0.0</td>\n",
       "      <td>0.0</td>\n",
       "      <td>0.0</td>\n",
       "      <td>0.0</td>\n",
       "      <td>0.0</td>\n",
       "    </tr>\n",
       "    <tr>\n",
       "      <th>18</th>\n",
       "      <td>0.0</td>\n",
       "      <td>0.0</td>\n",
       "      <td>0.0</td>\n",
       "      <td>0.0</td>\n",
       "      <td>0.0</td>\n",
       "      <td>0.0</td>\n",
       "      <td>0.0</td>\n",
       "      <td>0.0</td>\n",
       "      <td>0.0</td>\n",
       "      <td>0.0</td>\n",
       "      <td>...</td>\n",
       "      <td>0.0</td>\n",
       "      <td>0.0</td>\n",
       "      <td>0.0</td>\n",
       "      <td>0.0</td>\n",
       "      <td>0.0</td>\n",
       "      <td>0.0</td>\n",
       "      <td>0.0</td>\n",
       "      <td>0.0</td>\n",
       "      <td>0.0</td>\n",
       "      <td>0.0</td>\n",
       "    </tr>\n",
       "    <tr>\n",
       "      <th>19</th>\n",
       "      <td>0.0</td>\n",
       "      <td>0.0</td>\n",
       "      <td>0.0</td>\n",
       "      <td>0.0</td>\n",
       "      <td>0.0</td>\n",
       "      <td>0.0</td>\n",
       "      <td>0.0</td>\n",
       "      <td>0.0</td>\n",
       "      <td>0.0</td>\n",
       "      <td>0.0</td>\n",
       "      <td>...</td>\n",
       "      <td>0.0</td>\n",
       "      <td>0.0</td>\n",
       "      <td>0.0</td>\n",
       "      <td>0.0</td>\n",
       "      <td>0.0</td>\n",
       "      <td>0.0</td>\n",
       "      <td>0.0</td>\n",
       "      <td>0.0</td>\n",
       "      <td>1.0</td>\n",
       "      <td>0.0</td>\n",
       "    </tr>\n",
       "  </tbody>\n",
       "</table>\n",
       "<p>20 rows × 26 columns</p>\n",
       "</div>"
      ],
      "text/plain": [
       "         a       b       c       d       e       f      g       h       i  \\\n",
       "0   1405.0  1566.0  2533.0  1595.0   988.0  1198.0  825.0  1036.0   915.0   \n",
       "1   3554.0   150.0   438.0   202.0  3739.0    91.0   83.0  1040.0  2577.0   \n",
       "2   2368.0   518.0  1223.0   793.0  1784.0   460.0  703.0   205.0  1618.0   \n",
       "3   1506.0   442.0  1139.0  1007.0  3003.0   429.0  776.0   558.0  1937.0   \n",
       "4   1371.0   317.0   729.0   702.0  3565.0   206.0  477.0   699.0  2296.0   \n",
       "5   1285.0   207.0   640.0   956.0  2761.0   212.0  477.0   419.0  1976.0   \n",
       "6   1112.0   117.0   428.0   813.0  2081.0    69.0  762.0   207.0  1545.0   \n",
       "7    604.0    85.0   331.0   656.0  1514.0    44.0  713.0   137.0  1067.0   \n",
       "8    379.0    54.0   178.0   482.0  1087.0    18.0  461.0    89.0   651.0   \n",
       "9    164.0    31.0   112.0   290.0   595.0     6.0  306.0    68.0   344.0   \n",
       "10   105.0    14.0    54.0   141.0   343.0     2.0  167.0    16.0   177.0   \n",
       "11    46.0    11.0    26.0    76.0   130.0     1.0   90.0     7.0    73.0   \n",
       "12    16.0     1.0    12.0    24.0    54.0     0.0   46.0     1.0    21.0   \n",
       "13     6.0     1.0     3.0     5.0    23.0     0.0    9.0     0.0    13.0   \n",
       "14     4.0     1.0     0.0     3.0     2.0     0.0    5.0     0.0     5.0   \n",
       "15     0.0     0.0     2.0     0.0     3.0     0.0    4.0     0.0     0.0   \n",
       "16     1.0     0.0     0.0     1.0     2.0     0.0    0.0     0.0     0.0   \n",
       "17     0.0     0.0     0.0     0.0     0.0     0.0    0.0     0.0     0.0   \n",
       "18     0.0     0.0     0.0     0.0     0.0     0.0    0.0     0.0     0.0   \n",
       "19     0.0     0.0     0.0     0.0     0.0     0.0    0.0     0.0     0.0   \n",
       "\n",
       "        j  ...       q       r       s       t       u      v      w      x  \\\n",
       "0   250.0  ...    92.0  1442.0  3135.0  1323.0   499.0  377.0  728.0    1.0   \n",
       "1     4.0  ...    64.0  2227.0   220.0   624.0  1914.0  182.0  208.0  282.0   \n",
       "2    70.0  ...    51.0  2364.0  1737.0  1645.0  1006.0  469.0  257.0  127.0   \n",
       "3    39.0  ...    46.0  1618.0  1473.0  2138.0   762.0  338.0  258.0   32.0   \n",
       "4     7.0  ...    15.0  1708.0  1706.0  1611.0   705.0  158.0  147.0   22.0   \n",
       "5     3.0  ...    18.0  1725.0  1660.0  1484.0   433.0  200.0  147.0   23.0   \n",
       "6     3.0  ...     3.0  1065.0  1613.0  1440.0   335.0   82.0   45.0   22.0   \n",
       "7     2.0  ...     1.0   641.0  1188.0   995.0   197.0   79.0   43.0    6.0   \n",
       "8     0.0  ...     3.0   339.0   793.0   638.0   113.0   63.0   12.0    3.0   \n",
       "9     0.0  ...     0.0   188.0   493.0   414.0    52.0   34.0    1.0    3.0   \n",
       "10    0.0  ...     0.0   104.0   303.0   196.0    17.0   12.0    2.0    0.0   \n",
       "11    0.0  ...     0.0    48.0   181.0    70.0    13.0    8.0    1.0    0.0   \n",
       "12    0.0  ...     0.0    18.0    84.0    31.0     1.0    4.0    0.0    0.0   \n",
       "13    0.0  ...     0.0     2.0    39.0    19.0     0.0    0.0    0.0    0.0   \n",
       "14    0.0  ...     0.0     2.0    17.0     6.0     0.0    0.0    0.0    0.0   \n",
       "15    0.0  ...     0.0     0.0     3.0     2.0     0.0    1.0    0.0    0.0   \n",
       "16    0.0  ...     0.0     0.0     2.0     1.0     0.0    0.0    0.0    0.0   \n",
       "17    0.0  ...     0.0     0.0     0.0     0.0     0.0    0.0    0.0    0.0   \n",
       "18    0.0  ...     0.0     0.0     0.0     0.0     0.0    0.0    0.0    0.0   \n",
       "19    0.0  ...     0.0     0.0     0.0     0.0     0.0    0.0    0.0    0.0   \n",
       "\n",
       "        y      z  \n",
       "0    98.0   44.0  \n",
       "1   238.0    1.0  \n",
       "2   259.0   93.0  \n",
       "3   192.0  112.0  \n",
       "4   498.0   65.0  \n",
       "5   474.0   31.0  \n",
       "6   340.0   53.0  \n",
       "7   261.0   57.0  \n",
       "8   220.0   32.0  \n",
       "9   190.0   19.0  \n",
       "10  124.0    4.0  \n",
       "11   90.0    2.0  \n",
       "12   43.0    0.0  \n",
       "13   28.0    0.0  \n",
       "14    8.0    1.0  \n",
       "15    2.0    0.0  \n",
       "16    0.0    0.0  \n",
       "17    0.0    0.0  \n",
       "18    0.0    0.0  \n",
       "19    1.0    0.0  \n",
       "\n",
       "[20 rows x 26 columns]"
      ]
     },
     "execution_count": 10,
     "metadata": {},
     "output_type": "execute_result"
    }
   ],
   "source": [
    "df = get_letter_dists(words, asFrame=True)\n",
    "df"
   ]
  },
  {
   "cell_type": "markdown",
   "metadata": {},
   "source": [
    "Idea to execution, procuring and wrangling this dataset was actually much easier than I'd originally thought.\n",
    "\n",
    "The real fun was trying to figure out compelling visualizations."
   ]
  },
  {
   "cell_type": "markdown",
   "metadata": {},
   "source": [
    "## Visualizing It"
   ]
  },
  {
   "cell_type": "markdown",
   "metadata": {},
   "source": [
    "Admittedly, my `matplotlib` chops have always been \"good enough to get the job done\" but have always taken a back seat to some of the meatier Python topics. (And we're not going to talk about the D3 book collecting dust on my book shelf :( )\n",
    "\n",
    "I had a lot of thoughts about what some nice visualizations might look like, doodling and shopping ideas from friends who are better at this stuff than me (Here's where I'd love to link the blog you should write. You know who you are!). But as I started hurling spaghetti code at my interpreter, it soon became clear that I'd be doing myself a lot of favors if I started peeling back the curtain on `matplotlib` a little bit. It wound up being a good an excuse as any to start padding out the [Data Viz section of my notes](https://napsterinblue.github.io/notes/#python)-- explaining things I've probably Googled dozens of times. \n",
    "\n",
    "Ultimately, I had a lot of fun deciding what a visualization was **going** to look like, then figuring out how to leverage the expressive API to make that happen.\n",
    "\n",
    "Here are some of my favorites:"
   ]
  },
  {
   "cell_type": "markdown",
   "metadata": {},
   "source": [
    "### The Meat of the Post"
   ]
  },
  {
   "cell_type": "markdown",
   "metadata": {},
   "source": [
    "First, I tried taking a look at how these counts measured up, per letter, *as a percentage of that letter's overall counts*. It's clear here that `k` shows up as the `4th` far more than the first or third spot (sorry, folks not used to 0-indexing!).\n",
    "\n",
    "I wound up leveraging the `seaborn` library to organize the plot, and in so doing stumbled across a [fascinating talk on how the devs picked this color gradient](https://www.youtube.com/watch?v=xAoljeRJ3lU)."
   ]
  },
  {
   "cell_type": "code",
   "execution_count": 11,
   "metadata": {},
   "outputs": [
    {
     "data": {
      "image/png": "[encoded data removed]",
      "text/plain": [
       "<matplotlib.figure.Figure at 0xbe66a20>"
      ]
     },
     "metadata": {},
     "output_type": "display_data"
    }
   ],
   "source": [
    "letter_dist_heatmap(df)"
   ]
  },
  {
   "cell_type": "markdown",
   "metadata": {},
   "source": [
    "But this was almost too close to tell, depending on how well you can interpret differences in hue.\n",
    "\n",
    "Instead, I went with a more traditional approach and did a bunch of bar charts, and it helps you get a better idea of the how the letters are distributed. `k` still looks pretty close."
   ]
  },
  {
   "cell_type": "code",
   "execution_count": 12,
   "metadata": {},
   "outputs": [
    {
     "data": {
      "image/png": "[encoded data removed]",
      "text/plain": [
       "<matplotlib.figure.Figure at 0xc488588>"
      ]
     },
     "metadata": {},
     "output_type": "display_data"
    }
   ],
   "source": [
    "plot_letter_dists(df)"
   ]
  },
  {
   "cell_type": "markdown",
   "metadata": {},
   "source": [
    "But a closer inspection of the `k` chart reveals that the first letter does, indeed, occur more often than the third."
   ]
  },
  {
   "cell_type": "code",
   "execution_count": 13,
   "metadata": {},
   "outputs": [
    {
     "data": {
      "image/png": "[encoded data removed]",
      "text/plain": [
       "<matplotlib.figure.Figure at 0xc99bc50>"
      ]
     },
     "metadata": {},
     "output_type": "display_data"
    }
   ],
   "source": [
    "plot_just_k(df)"
   ]
  },
  {
   "cell_type": "markdown",
   "metadata": {},
   "source": [
    "Look out for my unofficial sequel, *Thinking Fast and then Tinkering at Your Computer for a Couple Nights*"
   ]
  },
  {
   "cell_type": "markdown",
   "metadata": {},
   "source": [
    "## Bonus Scrabble Round"
   ]
  },
  {
   "cell_type": "markdown",
   "metadata": {},
   "source": [
    "Before I closed the lid on my tinkering, I was struck by some of the distributions of the letters that I'd found. `j` was overwhelmingly the first letter. `o` and `u` the second. Many others followed an almost-normal distribution.\n",
    "\n",
    "So I did what you'd expect of any data scientist who'd gotten destroyed in Scrabble the night before, and I reworked the visualization to also include point values of each letter. Study your losses, right?"
   ]
  },
  {
   "cell_type": "code",
   "execution_count": 14,
   "metadata": {
    "scrolled": false
   },
   "outputs": [
    {
     "data": {
      "image/png": "[encoded data removed]",
      "text/plain": [
       "<matplotlib.figure.Figure at 0xcc51780>"
      ]
     },
     "metadata": {},
     "output_type": "display_data"
    }
   ],
   "source": [
    "plot_letter_dists_scrabble(df)"
   ]
  },
  {
   "cell_type": "markdown",
   "metadata": {},
   "source": [
    "I thought it was interesting to see that vowels earn their one-point-edness and by having a pretty wide distribution, making them flexible tiles. But you might also notice that all of the two and three point consonants share a pretty handy availability as more-often the first letter in a word, making it much easier to play onto an uncrowded board. Conversely, you'll have to scratch your head a bit to make a quality play with `z`.\n",
    "\n",
    "Alternatively, you might also just look at how prevalent these letters were across our text and find a much simpler interpretation."
   ]
  },
  {
   "cell_type": "code",
   "execution_count": 15,
   "metadata": {},
   "outputs": [
    {
     "data": {
      "image/png": "[encoded data removed]",
      "text/plain": [
       "<matplotlib.figure.Figure at 0xcf462b0>"
      ]
     },
     "metadata": {},
     "output_type": "display_data"
    }
   ],
   "source": [
    "plot_letter_volume_scrabble(df)"
   ]
  },
  {
   "cell_type": "markdown",
   "metadata": {},
   "source": [
    "## Conclusion"
   ]
  },
  {
   "cell_type": "markdown",
   "metadata": {},
   "source": [
    "Thanks for reading! Per usual, the code I used to generate all of the above [can be found here](https://github.com/NapsterInBlue/LetterDistributions). I'm gonna go get back to that book."
   ]
  },
  {
   "cell_type": "markdown",
   "metadata": {},
   "source": [
    "Cheers,\n",
    "\n",
    "-Nick"
   ]
  }
 ],
 "metadata": {
  "kernelspec": {
   "display_name": "Python 3",
   "language": "python",
   "name": "python3"
  },
  "language_info": {
   "codemirror_mode": {
    "name": "ipython",
    "version": 3
   },
   "file_extension": ".py",
   "mimetype": "text/x-python",
   "name": "python",
   "nbconvert_exporter": "python",
   "pygments_lexer": "ipython3",
   "version": "3.6.3"
  }
 },
 "nbformat": 4,
 "nbformat_minor": 2
}
